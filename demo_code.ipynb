{
 "cells": [
  {
   "cell_type": "markdown",
   "id": "5883fab5",
   "metadata": {},
   "source": [
    "# DB setup"
   ]
  },
  {
   "cell_type": "code",
   "execution_count": 1,
   "id": "55a8f705",
   "metadata": {},
   "outputs": [],
   "source": [
    "# Import MySQL Connector/Python \n",
    "import mysql.connector as connector\n",
    "\n",
    "connection=connector.connect(user='test',password='Test1234!',auth_plugin='mysql_native_password')"
   ]
  },
  {
   "cell_type": "code",
   "execution_count": 2,
   "id": "a4d1148c",
   "metadata": {},
   "outputs": [],
   "source": [
    "cursor = connection.cursor()"
   ]
  },
  {
   "cell_type": "code",
   "execution_count": 3,
   "id": "ab571aa9",
   "metadata": {},
   "outputs": [],
   "source": [
    "cursor.execute(\"CREATE DATABASE little_lemon\") \n",
    "cursor.execute(\"USE little_lemon\")"
   ]
  },
  {
   "cell_type": "code",
   "execution_count": 4,
   "id": "cb7d7265",
   "metadata": {},
   "outputs": [],
   "source": [
    "#MenuItems table\n",
    "create_menuitem_table = \"\"\"CREATE TABLE MenuItems (\n",
    "ItemID INT AUTO_INCREMENT,\n",
    "Name VARCHAR(200),\n",
    "Type VARCHAR(100),\n",
    "Price INT,\n",
    "PRIMARY KEY (ItemID)\n",
    ");\"\"\"\n",
    "\n",
    "create_menu_table = \"\"\"CREATE TABLE Menus (\n",
    "MenuID INT,\n",
    "ItemID INT,\n",
    "Cuisine VARCHAR(100),\n",
    "PRIMARY KEY (MenuID,ItemID)\n",
    ");\"\"\"\n",
    "\n",
    "create_booking_table = \"\"\"CREATE TABLE Bookings (\n",
    "BookingID INT AUTO_INCREMENT,\n",
    "TableNo INT,\n",
    "GuestFirstName VARCHAR(100) NOT NULL,\n",
    "GuestLastName VARCHAR(100) NOT NULL,\n",
    "BookingSlot TIME NOT NULL,\n",
    "EmployeeID INT,\n",
    "PRIMARY KEY (BookingID)\n",
    ");\"\"\"\n",
    "\n",
    "create_orders_table = \"\"\"CREATE TABLE Orders (\n",
    "OrderID INT,\n",
    "TableNo INT,\n",
    "MenuID INT,\n",
    "BookingID INT,\n",
    "BillAmount INT,\n",
    "Quantity INT,\n",
    "PRIMARY KEY (OrderID,TableNo)\n",
    ");\"\"\"\n",
    "\n",
    "create_employees_table = \"\"\"CREATE TABLE Employees (\n",
    "EmployeeID INT AUTO_INCREMENT PRIMARY KEY,\n",
    "Name VARCHAR (255),\n",
    "Role VARCHAR (100),\n",
    "Address VARCHAR (255),\n",
    "Contact_Number INT,\n",
    "Email VARCHAR (255),\n",
    "Annual_Salary VARCHAR (100)\n",
    ");\"\"\""
   ]
  },
  {
   "cell_type": "code",
   "execution_count": 5,
   "id": "c3643617",
   "metadata": {},
   "outputs": [],
   "source": [
    "# Create MenuItems table\n",
    "cursor.execute(create_menuitem_table)\n",
    "\n",
    "# Create Menu table\n",
    "cursor.execute(create_menu_table)\n",
    "\n",
    "# Create Bookings table\n",
    "cursor.execute(create_booking_table)\n",
    "\n",
    "# Create Orders table\n",
    "cursor.execute(create_orders_table)\n",
    "\n",
    "# Create Employees table\n",
    "cursor.execute(create_employees_table)"
   ]
  },
  {
   "cell_type": "code",
   "execution_count": 6,
   "id": "39ed798e",
   "metadata": {},
   "outputs": [],
   "source": [
    "#*******************************************************#\n",
    "# Insert query to populate \"MenuItems\" table:\n",
    "#*******************************************************#\n",
    "insert_menuitems=\"\"\"\n",
    "INSERT INTO MenuItems (ItemID, Name, Type, Price)\n",
    "VALUES\n",
    "(1, 'Olives','Starters',5),\n",
    "(2, 'Flatbread','Starters', 5),\n",
    "(3, 'Minestrone', 'Starters', 8),\n",
    "(4, 'Tomato bread','Starters', 8),\n",
    "(5, 'Falafel', 'Starters', 7),\n",
    "(6, 'Hummus', 'Starters', 5),\n",
    "(7, 'Greek salad', 'Main Courses', 15),\n",
    "(8, 'Bean soup', 'Main Courses', 12),\n",
    "(9, 'Pizza', 'Main Courses', 15),\n",
    "(10, 'Greek yoghurt','Desserts', 7),\n",
    "(11, 'Ice cream', 'Desserts', 6),\n",
    "(12, 'Cheesecake', 'Desserts', 4),\n",
    "(13, 'Athens White wine', 'Drinks', 25),\n",
    "(14, 'Corfu Red Wine', 'Drinks', 30),\n",
    "(15, 'Turkish Coffee', 'Drinks', 10),\n",
    "(16, 'Turkish Coffee', 'Drinks', 10),\n",
    "(17, 'Kabasa', 'Main Courses', 17);\"\"\"\n",
    "\n",
    "#*******************************************************#\n",
    "# Insert query to populate \"Menu\" table:\n",
    "#*******************************************************#\n",
    "insert_menu=\"\"\"\n",
    "INSERT INTO Menus (MenuID,ItemID,Cuisine)\n",
    "VALUES\n",
    "(1, 1, 'Greek'),\n",
    "(1, 7, 'Greek'),\n",
    "(1, 10, 'Greek'),\n",
    "(1, 13, 'Greek'),\n",
    "(2, 3, 'Italian'),\n",
    "(2, 9, 'Italian'),\n",
    "(2, 12, 'Italian'),\n",
    "(2, 15, 'Italian'),\n",
    "(3, 5, 'Turkish'),\n",
    "(3, 17, 'Turkish'),\n",
    "(3, 11, 'Turkish'),\n",
    "(3, 16, 'Turkish');\"\"\"\n",
    "\n",
    "#*******************************************************#\n",
    "# Insert query to populate \"Bookings\" table:\n",
    "#*******************************************************#\n",
    "insert_bookings=\"\"\"\n",
    "INSERT INTO Bookings (BookingID, TableNo, GuestFirstName, \n",
    "GuestLastName, BookingSlot, EmployeeID)\n",
    "VALUES\n",
    "(1, 12, 'Anna','Iversen','19:00:00',1),\n",
    "(2, 12, 'Joakim', 'Iversen', '19:00:00', 1),\n",
    "(3, 19, 'Vanessa', 'McCarthy', '15:00:00', 3),\n",
    "(4, 15, 'Marcos', 'Romero', '17:30:00', 4),\n",
    "(5, 5, 'Hiroki', 'Yamane', '18:30:00', 2),\n",
    "(6, 8, 'Diana', 'Pinto', '20:00:00', 5);\"\"\"\n",
    "\n",
    "#*******************************************************#\n",
    "# Insert query to populate \"Orders\" table:\n",
    "#*******************************************************#\n",
    "insert_orders=\"\"\"\n",
    "INSERT INTO Orders (OrderID, TableNo, MenuID, BookingID, Quantity, BillAmount)\n",
    "VALUES\n",
    "(1, 12, 1, 1, 2, 86),\n",
    "(2, 19, 2, 2, 1, 37),\n",
    "(3, 15, 2, 3, 1, 37),\n",
    "(4, 5, 3, 4, 1, 40),\n",
    "(5, 8, 1, 5, 1, 43);\"\"\"\n",
    "\n",
    "#*******************************************************#\n",
    "# Insert query to populate \"Employees\" table:\n",
    "#*******************************************************#\n",
    "insert_employees = \"\"\"\n",
    "INSERT INTO Employees (EmployeeID, Name, Role, Address, Contact_Number, Email, Annual_Salary) VALUES\n",
    "(01,'Mario Gollini','Manager','724, Parsley Lane, Old Town, Chicago, IL',351258074,'Mario.g@littlelemon.com','$70,000'),\n",
    "(02,'Adrian Gollini','Assistant Manager','334, Dill Square, Lincoln Park, Chicago, IL',351474048,'Adrian.g@littlelemon.com','$65,000'),\n",
    "(03,'Giorgos Dioudis','Head Chef','879 Sage Street, West Loop, Chicago, IL',351970582,'Giorgos.d@littlelemon.com','$50,000'),\n",
    "(04,'Fatma Kaya','Assistant Chef','132  Bay Lane, Chicago, IL',351963569,'Fatma.k@littlelemon.com','$45,000'),\n",
    "(05,'Elena Salvai','Head Waiter','989 Thyme Square, EdgeWater, Chicago, IL',351074198,'Elena.s@littlelemon.com','$40,000'),\n",
    "(06,'John Millar','Receptionist','245 Dill Square, Lincoln Park, Chicago, IL',351584508,'John.m@littlelemon.com','$35,000');\"\"\"\n"
   ]
  },
  {
   "cell_type": "code",
   "execution_count": 7,
   "id": "e18476df",
   "metadata": {},
   "outputs": [],
   "source": [
    "# Populate MenuItems table\n",
    "cursor.execute(insert_menuitems)\n",
    "connection.commit()\n",
    "\n",
    "# Populate MenuItems table\n",
    "cursor.execute(insert_menu)\n",
    "connection.commit()\n",
    "\n",
    "# Populate Bookings table\n",
    "cursor.execute(insert_bookings)\n",
    "connection.commit()\n",
    "\n",
    "# Populate Orders table\n",
    "cursor.execute(insert_orders)\n",
    "connection.commit()\n",
    "\n",
    "# Populate Employees table\n",
    "cursor.execute(insert_employees)\n",
    "connection.commit()"
   ]
  },
  {
   "cell_type": "markdown",
   "id": "2d0b9958",
   "metadata": {},
   "source": [
    "# Stored procedures"
   ]
  },
  {
   "cell_type": "code",
   "execution_count": 8,
   "id": "16c3d79a",
   "metadata": {},
   "outputs": [
    {
     "name": "stdout",
     "output_type": "stream",
     "text": [
      "The connection pool is created with a name:  pool_a\n",
      "The pool size is: 2\n"
     ]
    }
   ],
   "source": [
    "from mysql.connector.pooling import MySQLConnectionPool\n",
    "from mysql.connector import Error\n",
    "\n",
    "dbconfig = {\n",
    "    \"database\":\"little_lemon\",\n",
    "    \"user\" : \"test\",\n",
    "    \"password\" : \"Test1234!\",\n",
    "    \"auth_plugin\" : \"mysql_native_password\"\n",
    "}\n",
    "\n",
    "try:\n",
    "    pool = MySQLConnectionPool(pool_name = \"pool_a\",\n",
    "                           pool_size = 2, \n",
    "                           **dbconfig)\n",
    "    print(\"The connection pool is created with a name: \",pool.pool_name)\n",
    "    print(\"The pool size is:\",pool.pool_size)\n",
    "\n",
    "except Error as er:\n",
    "    print(\"Error code:\", er.errno)\n",
    "    print(\"Error message:\", er.msg)"
   ]
  },
  {
   "cell_type": "code",
   "execution_count": 9,
   "id": "4f691252",
   "metadata": {},
   "outputs": [
    {
     "name": "stdout",
     "output_type": "stream",
     "text": [
      "Getting a connection from the pool.\n",
      "Creating a cursor object.\n"
     ]
    }
   ],
   "source": [
    "print(\"Getting a connection from the pool.\")\n",
    "connection1 = pool.get_connection()\n",
    "\n",
    "print(\"Creating a cursor object.\")\n",
    "cursor = connection1.cursor()"
   ]
  },
  {
   "cell_type": "code",
   "execution_count": 10,
   "id": "8b14ca2f",
   "metadata": {},
   "outputs": [],
   "source": [
    "stored_procedure_query=\"\"\"\n",
    "CREATE PROCEDURE PeakHours()\n",
    "\n",
    "BEGIN\n",
    "\n",
    "SELECT HOUR(BookingSlot) AS BookingHour, COUNT(BookingID) AS HourlyBookings\n",
    "FROM Bookings\n",
    "GROUP BY BookingHour\n",
    "ORDER BY HourlyBookings DESC;\n",
    "\n",
    "END\n",
    "\n",
    "\"\"\""
   ]
  },
  {
   "cell_type": "code",
   "execution_count": 11,
   "id": "d210bc69",
   "metadata": {},
   "outputs": [],
   "source": [
    "cursor.execute(stored_procedure_query)\n",
    "cursor.callproc(\"PeakHours\")\n",
    "\n",
    "results = next( cursor.stored_results() )\n",
    "dataset = results.fetchall()"
   ]
  },
  {
   "cell_type": "code",
   "execution_count": 12,
   "id": "c2a306fb",
   "metadata": {},
   "outputs": [
    {
     "name": "stdout",
     "output_type": "stream",
     "text": [
      "['BookingHour', 'HourlyBookings']\n",
      "(19, 2)\n",
      "(15, 1)\n",
      "(17, 1)\n",
      "(18, 1)\n",
      "(20, 1)\n"
     ]
    }
   ],
   "source": [
    "for column_id in cursor.stored_results():\n",
    "    columns = [ column[0] for column in column_id.description ]\n",
    "\n",
    "print(columns)\n",
    "\n",
    "for data in dataset:\n",
    "    print(data)"
   ]
  },
  {
   "cell_type": "code",
   "execution_count": 13,
   "id": "a326e80b",
   "metadata": {},
   "outputs": [],
   "source": [
    "guest_status_query=\"\"\"\n",
    "CREATE PROCEDURE GuestStatus()\n",
    "\n",
    "BEGIN\n",
    "SELECT CONCAT(Bookings.GuestFirstName,' ',Bookings.GuestLastName) AS Guest_Name,\n",
    "CASE\n",
    "WHEN Employees.Role IN ('Manager', 'Assistant Manager') THEN \" Ready to pay\" \n",
    "WHEN Employees.Role = 'Head Chef' THEN \"Ready to serve\" \n",
    "WHEN Employees.Role = 'Assistant Chef' THEN \"Preparing Order\"\n",
    "WHEN Employees.Role = 'Head Waiter' THEN \"Order served\"\n",
    "END AS Guest_Status\n",
    "\n",
    "FROM Bookings\n",
    "LEFT JOIN\n",
    "Employees ON Bookings.EmployeeID=Employees.EmployeeID;\n",
    "\n",
    "END\n",
    "\n",
    "\"\"\""
   ]
  },
  {
   "cell_type": "code",
   "execution_count": 14,
   "id": "e3c0cf1f",
   "metadata": {},
   "outputs": [],
   "source": [
    "cursor.execute(guest_status_query)\n",
    "cursor.callproc(\"GuestStatus\")\n",
    "\n",
    "results_1 = next( cursor.stored_results() )\n",
    "dataset_1 = results_1.fetchall()"
   ]
  },
  {
   "cell_type": "code",
   "execution_count": 15,
   "id": "6b1ef734",
   "metadata": {},
   "outputs": [
    {
     "name": "stdout",
     "output_type": "stream",
     "text": [
      "['Guest_Name', 'Guest_Status']\n",
      "('Anna Iversen', ' Ready to pay')\n",
      "('Joakim Iversen', ' Ready to pay')\n",
      "('Vanessa McCarthy', 'Ready to serve')\n",
      "('Marcos Romero', 'Preparing Order')\n",
      "('Hiroki Yamane', ' Ready to pay')\n",
      "('Diana Pinto', 'Order served')\n"
     ]
    }
   ],
   "source": [
    "for column_id in cursor.stored_results():\n",
    "    columns = [ column[0] for column in column_id.description ]\n",
    "\n",
    "print(columns)\n",
    "\n",
    "for data in dataset_1:\n",
    "    print(data)"
   ]
  },
  {
   "cell_type": "code",
   "execution_count": 16,
   "id": "a453586b",
   "metadata": {},
   "outputs": [
    {
     "name": "stdout",
     "output_type": "stream",
     "text": [
      "\n",
      "Returning the connection back to the pool.\n"
     ]
    }
   ],
   "source": [
    "connection1.close()\n",
    "print(\"\\nReturning the connection back to the pool.\")"
   ]
  },
  {
   "cell_type": "markdown",
   "id": "3f681b6d",
   "metadata": {},
   "source": [
    "# Sales Report"
   ]
  },
  {
   "cell_type": "code",
   "execution_count": 17,
   "id": "fbfe91ed",
   "metadata": {},
   "outputs": [
    {
     "name": "stdout",
     "output_type": "stream",
     "text": [
      "The connection pool is created with a name:  pool_b\n",
      "The pool size is: 2\n"
     ]
    }
   ],
   "source": [
    "from mysql.connector.pooling import MySQLConnectionPool\n",
    "from mysql.connector import Error\n",
    "\n",
    "dbconfig = {\n",
    "    \"database\":\"little_lemon\",\n",
    "    \"user\" : \"test\",\n",
    "    \"password\" : \"Test1234!\",\n",
    "    \"auth_plugin\" : \"mysql_native_password\"\n",
    "}\n",
    "\n",
    "try:\n",
    "    pool = MySQLConnectionPool(pool_name = \"pool_b\",\n",
    "                           pool_size = 2, \n",
    "                           **dbconfig)\n",
    "    print(\"The connection pool is created with a name: \",pool.pool_name)\n",
    "    print(\"The pool size is:\",pool.pool_size)\n",
    "\n",
    "except Error as er:\n",
    "    print(\"Error code:\", er.errno)\n",
    "    print(\"Error message:\", er.msg)"
   ]
  },
  {
   "cell_type": "code",
   "execution_count": 18,
   "id": "744b21cf",
   "metadata": {},
   "outputs": [
    {
     "name": "stdout",
     "output_type": "stream",
     "text": [
      "[Anees] is connected.\n",
      "\n",
      "\n",
      "Returning the connection back to the pool.\n",
      "[Bald] is connected.\n",
      "\n",
      "\n",
      "Returning the connection back to the pool.\n",
      "[Jay] is connected.\n",
      "\n",
      "\n",
      "Returning the connection back to the pool.\n"
     ]
    }
   ],
   "source": [
    "import mysql.connector as connector\n",
    "import datetime as dt\n",
    "\n",
    "guests = [(8, 'Anees', 'Java', dt.time(18,0), 6), \n",
    "          (5, 'Bald', 'Vin', dt.time(19,0), 6),\n",
    "          (12, 'Jay', 'Kon', dt.time(19,30), 6), ]\n",
    "\n",
    "insert_bookings_query=\"INSERT INTO Bookings (TableNo, GuestFirstName, \\\n",
    "GuestLastName, BookingSlot, EmployeeID) \\\n",
    "VALUES ({}, '{}', '{}', '{}', {})\"\n",
    "\n",
    "# Assign connection to each user\n",
    "for guest in guests:\n",
    "    try:\n",
    "        guest_connection = pool.get_connection()\n",
    "        print(\"[{}] is connected.\\n\".format(guest[1]))\n",
    "    except:\n",
    "        print(\"No more connections are available.\")\n",
    "        print(\"Adding new connection in the pool.\")\n",
    "        \n",
    "        # Create a connection\n",
    "        connection=connector.connect(**dbconfig)\n",
    "        # Add the connection into the pool\n",
    "        pool.add_connection(cnx=connection)\n",
    "        print(\"A new connection is added in the pool.\\n\")\n",
    "        \n",
    "        guest_connection = pool.get_connection()\n",
    "        print(\"[{}] is connected.\\n\".format(guest[1]))\n",
    "        \n",
    "    cursor = guest_connection.cursor()\n",
    "    cursor.execute(insert_bookings_query.format(guest[0], guest[1],guest[2],guest[3],guest[4]))\n",
    "    guest_connection.commit()\n",
    "    print(\"\\nReturning the connection back to the pool.\")\n",
    "    guest_connection.close()"
   ]
  },
  {
   "cell_type": "code",
   "execution_count": 19,
   "id": "e77182c9",
   "metadata": {},
   "outputs": [
    {
     "name": "stdout",
     "output_type": "stream",
     "text": [
      "Acquiring connection\n"
     ]
    }
   ],
   "source": [
    "print(\"Acquiring connection\")\n",
    "connection = pool.get_connection()\n",
    "cursor = connection.cursor()"
   ]
  },
  {
   "cell_type": "code",
   "execution_count": 20,
   "id": "ff8ae941",
   "metadata": {},
   "outputs": [
    {
     "name": "stdout",
     "output_type": "stream",
     "text": [
      "Manager is: \n",
      "\n",
      "('Name', 'EmployeeID')\n",
      "('Mario Gollini', 1)\n"
     ]
    }
   ],
   "source": [
    "manager_query = \"\"\"\n",
    "SELECT Name, EmployeeID FROM Employees WHERE Role = 'Manager';\n",
    "\"\"\"\n",
    "cursor.execute(manager_query)\n",
    "results = cursor.fetchall()\n",
    "cols = cursor.column_names\n",
    "print('Manager is: \\n')\n",
    "print(cols)\n",
    "for r in results:\n",
    "    print(r)"
   ]
  },
  {
   "cell_type": "code",
   "execution_count": 21,
   "id": "b07f20dc",
   "metadata": {},
   "outputs": [
    {
     "name": "stdout",
     "output_type": "stream",
     "text": [
      "Highest paid employee is: \n",
      "\n",
      "('Name', 'Role')\n",
      "('Mario Gollini', 'Manager')\n"
     ]
    }
   ],
   "source": [
    "highest_paid_query = \"\"\"\n",
    "SELECT Name, Role FROM Employees ORDER BY Annual_Salary DESC LIMIT 1;\n",
    "\"\"\"\n",
    "\n",
    "cursor.execute(highest_paid_query)\n",
    "results = cursor.fetchall()\n",
    "cols = cursor.column_names\n",
    "print('Highest paid employee is: \\n')\n",
    "print(cols)\n",
    "for r in results:\n",
    "    print(r)"
   ]
  },
  {
   "cell_type": "code",
   "execution_count": 22,
   "id": "e3ee9177",
   "metadata": {},
   "outputs": [
    {
     "name": "stdout",
     "output_type": "stream",
     "text": [
      "Number of guests booked between 18-20 is: 7\n"
     ]
    }
   ],
   "source": [
    "guest_count_query=\"\"\"\n",
    "SELECT COUNT(BookingID) FROM Bookings WHERE HOUR(BookingSlot) BETWEEN 18 AND 20;\n",
    "\"\"\"\n",
    "cursor.execute(guest_count_query)\n",
    "results = cursor.fetchall()\n",
    "cols = cursor.column_names\n",
    "print('Number of guests booked between 18-20 is: {}'.format(results[0][0]))\n"
   ]
  },
  {
   "cell_type": "code",
   "execution_count": 23,
   "id": "e5743bd6",
   "metadata": {},
   "outputs": [
    {
     "name": "stdout",
     "output_type": "stream",
     "text": [
      "Queue of guests to be setaed: \n",
      "\n",
      "('Guest_Name', 'BookingID')\n",
      "('Anees Java', 7)\n",
      "('Bald Vin', 8)\n",
      "('Jay Kon', 9)\n"
     ]
    }
   ],
   "source": [
    "guest_to_be_seated_query=\"\"\"\n",
    "SELECT CONCAT(Bookings.GuestFirstName,' ',Bookings.GuestLastName) AS Guest_Name, Bookings.BookingID\n",
    "FROM Bookings\n",
    "LEFT JOIN\n",
    "Employees ON Bookings.EmployeeID=Employees.EmployeeID\n",
    "WHERE Employees.Role = 'Receptionist'\n",
    "ORDER BY Bookings.BookingSlot ASC;\n",
    "\"\"\"\n",
    "cursor.execute(guest_to_be_seated_query)\n",
    "results = cursor.fetchall()\n",
    "cols = cursor.column_names\n",
    "print('Queue of guests to be setaed: \\n')\n",
    "print(cols)\n",
    "for r in results:\n",
    "    print(r)"
   ]
  },
  {
   "cell_type": "code",
   "execution_count": 24,
   "id": "59ef7615",
   "metadata": {},
   "outputs": [],
   "source": [
    "guest_status_query=\"\"\"\n",
    "CREATE PROCEDURE BasicSalesReport()\n",
    "\n",
    "BEGIN\n",
    "SELECT CONCAT('$', SUM(BillAmount)) AS Total_sales, \n",
    "CONCAT('$', ROUND(AVG(BillAmount), 2)) AS Avg_sale,\n",
    "CONCAT('$', MAX(BillAmount)) AS Max_bill,\n",
    "CONCAT('$', MIN(BillAmount)) AS Min_bill\n",
    "FROM Orders;\n",
    "\n",
    "END\n",
    "\n",
    "\"\"\""
   ]
  },
  {
   "cell_type": "code",
   "execution_count": 25,
   "id": "027c0a23",
   "metadata": {},
   "outputs": [
    {
     "name": "stdout",
     "output_type": "stream",
     "text": [
      "['Total_sales', 'Avg_sale', 'Max_bill', 'Min_bill']\n",
      "('$243', '$48.60', '$86', '$37')\n",
      "\n",
      "Returning the connection back to the pool.\n"
     ]
    }
   ],
   "source": [
    "cursor.execute(guest_status_query)\n",
    "cursor.callproc(\"BasicSalesReport\")\n",
    "\n",
    "results = next( cursor.stored_results() )\n",
    "dataset = results.fetchall()\n",
    "for column_id in cursor.stored_results():\n",
    "    columns = [ column[0] for column in column_id.description ]\n",
    "\n",
    "print(columns)\n",
    "\n",
    "for data in dataset:\n",
    "    print(data)\n",
    "    \n",
    "connection.close()\n",
    "print(\"\\nReturning the connection back to the pool.\")"
   ]
  },
  {
   "cell_type": "code",
   "execution_count": 26,
   "id": "f80a28be",
   "metadata": {},
   "outputs": [
    {
     "name": "stdout",
     "output_type": "stream",
     "text": [
      "Acquiring connection\n",
      "15:00:00 \n",
      " Vanessa McCarthy \n",
      " Assigned to: Giorgos Dioudis [Head Chef]\n",
      "17:30:00 \n",
      " Marcos Romero \n",
      " Assigned to: Fatma Kaya [Assistant Chef]\n",
      "18:00:00 \n",
      " Anees Java \n",
      " Assigned to: John Millar [Receptionist]\n",
      "\n",
      "Returning the connection back to the pool.\n"
     ]
    }
   ],
   "source": [
    "print(\"Acquiring connection\")\n",
    "connection = pool.get_connection()\n",
    "cursor = connection.cursor()\n",
    "\n",
    "next_three_guests_query=\"\"\"\n",
    "SELECT Bookings.BookingSlot,\n",
    "CONCAT(Bookings.GuestFirstName,' ',Bookings.GuestLastName) AS Guest_Name,\n",
    "Employees.Name, Employees.Role\n",
    "FROM Bookings\n",
    "LEFT JOIN\n",
    "Employees ON Bookings.EmployeeID=Employees.EmployeeID\n",
    "ORDER BY Bookings.BookingSlot ASC\n",
    "LIMIT 3;\n",
    "\"\"\"\n",
    "cursor.execute(next_three_guests_query)\n",
    "results = cursor.fetchall()\n",
    "\n",
    "for r in results:\n",
    "    print('{} \\n {} \\n Assigned to: {} [{}]'.format(r[0], r[1],r[2],r[3]))\n",
    "    \n",
    "connection.close()\n",
    "print(\"\\nReturning the connection back to the pool.\")"
   ]
  },
  {
   "cell_type": "code",
   "execution_count": null,
   "id": "3a33a068",
   "metadata": {},
   "outputs": [],
   "source": []
  }
 ],
 "metadata": {
  "kernelspec": {
   "display_name": "Python 3 (ipykernel)",
   "language": "python",
   "name": "python3"
  },
  "language_info": {
   "codemirror_mode": {
    "name": "ipython",
    "version": 3
   },
   "file_extension": ".py",
   "mimetype": "text/x-python",
   "name": "python",
   "nbconvert_exporter": "python",
   "pygments_lexer": "ipython3",
   "version": "3.11.5"
  }
 },
 "nbformat": 4,
 "nbformat_minor": 5
}
